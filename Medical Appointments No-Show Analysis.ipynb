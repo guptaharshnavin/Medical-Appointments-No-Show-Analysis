{
 "cells": [
  {
   "cell_type": "markdown",
   "metadata": {},
   "source": [
    "# Project: Medical Appointments No-Show Analysis\n",
    "## Prepared By: Harsh Navin Gupta\n",
    "\n",
    "## Table of Contents\n",
    "<ul>\n",
    "<li><a href=\"#intro\">Introduction</a></li>\n",
    "<li><a href=\"#wrangling\">Data Wrangling</a></li>\n",
    "<li><a href=\"#eda\">Exploratory Data Analysis</a></li>\n",
    "<li><a href=\"#conclusions\">Conclusions</a></li>\n",
    "</ul>"
   ]
  },
  {
   "cell_type": "markdown",
   "metadata": {},
   "source": [
    "<a id='intro'></a>\n",
    "## Introduction\n",
    "The dataset selected for this analysis is the **Medical Appointment No Show** dataset, which can be found on [Kaggle](https://www.kaggle.com/joniarroba/noshowappointments). This dataset contains information about the appointments taken by the Clinc's patients.The dataset provides information such as Appointment Information, Information about Patient and whether the Patient was a No-Show or Not.<br>\n",
    "This project focuses on analysing and understanding how likely is a patient to show-up at an appointment. This analysis is provided by exploring the data visually and identifying the relation between the various features provided in the dataset.<br>\n",
    "### Questions\n",
    "1. Are Patients who receive an SMS less likely to be a No-Show ?\n",
    "2. Is the likelihood of No-Show affected by the Patient's Age ?\n",
    "3. Does the Gender of the Patients affect the likelihood of No-Shows ?\n",
    "4. Is the likelihood of No-Show of an Alocholic Patient higher than a Non-Alcoholic Patient ?\n",
    "5. Are the Diabetic Patients less likely to be a No-Show ?\n",
    "6. Are the Hypertensive Patients less likely to be a No-Show ?\n",
    "7. Is the likelihood of No-Show affected if the Patient is Handicapped ?\n",
    "8. Do the patients who receive Scholarship less likely to be a No-Show ?\n",
    "9. Does the day of the appointment affect the likelihood of No-Shows ?"
   ]
  },
  {
   "cell_type": "code",
   "execution_count": 1,
   "metadata": {},
   "outputs": [],
   "source": [
    "# Importing Required Libraries\n",
    "import pandas as pd\n",
    "import numpy as np\n",
    "import matplotlib.pyplot as plt\n",
    "import seaborn as sns"
   ]
  },
  {
   "cell_type": "markdown",
   "metadata": {},
   "source": [
    "<a id='wrangling'></a>\n",
    "## Data Wrangling\n",
    "### General Properties"
   ]
  },
  {
   "cell_type": "code",
   "execution_count": 2,
   "metadata": {},
   "outputs": [],
   "source": [
    "# Loading Data Into Notebook\n",
    "df = pd.read_csv('dataset.csv')"
   ]
  },
  {
   "cell_type": "code",
   "execution_count": 3,
   "metadata": {},
   "outputs": [
    {
     "data": {
      "text/html": [
       "<div>\n",
       "<style scoped>\n",
       "    .dataframe tbody tr th:only-of-type {\n",
       "        vertical-align: middle;\n",
       "    }\n",
       "\n",
       "    .dataframe tbody tr th {\n",
       "        vertical-align: top;\n",
       "    }\n",
       "\n",
       "    .dataframe thead th {\n",
       "        text-align: right;\n",
       "    }\n",
       "</style>\n",
       "<table border=\"1\" class=\"dataframe\">\n",
       "  <thead>\n",
       "    <tr style=\"text-align: right;\">\n",
       "      <th></th>\n",
       "      <th>PatientId</th>\n",
       "      <th>AppointmentID</th>\n",
       "      <th>Gender</th>\n",
       "      <th>ScheduledDay</th>\n",
       "      <th>AppointmentDay</th>\n",
       "      <th>Age</th>\n",
       "      <th>Neighbourhood</th>\n",
       "      <th>Scholarship</th>\n",
       "      <th>Hipertension</th>\n",
       "      <th>Diabetes</th>\n",
       "      <th>Alcoholism</th>\n",
       "      <th>Handcap</th>\n",
       "      <th>SMS_received</th>\n",
       "      <th>No-show</th>\n",
       "    </tr>\n",
       "  </thead>\n",
       "  <tbody>\n",
       "    <tr>\n",
       "      <th>0</th>\n",
       "      <td>2.987250e+13</td>\n",
       "      <td>5642903</td>\n",
       "      <td>F</td>\n",
       "      <td>2016-04-29T18:38:08Z</td>\n",
       "      <td>2016-04-29T00:00:00Z</td>\n",
       "      <td>62</td>\n",
       "      <td>JARDIM DA PENHA</td>\n",
       "      <td>0</td>\n",
       "      <td>1</td>\n",
       "      <td>0</td>\n",
       "      <td>0</td>\n",
       "      <td>0</td>\n",
       "      <td>0</td>\n",
       "      <td>No</td>\n",
       "    </tr>\n",
       "    <tr>\n",
       "      <th>1</th>\n",
       "      <td>5.589978e+14</td>\n",
       "      <td>5642503</td>\n",
       "      <td>M</td>\n",
       "      <td>2016-04-29T16:08:27Z</td>\n",
       "      <td>2016-04-29T00:00:00Z</td>\n",
       "      <td>56</td>\n",
       "      <td>JARDIM DA PENHA</td>\n",
       "      <td>0</td>\n",
       "      <td>0</td>\n",
       "      <td>0</td>\n",
       "      <td>0</td>\n",
       "      <td>0</td>\n",
       "      <td>0</td>\n",
       "      <td>No</td>\n",
       "    </tr>\n",
       "    <tr>\n",
       "      <th>2</th>\n",
       "      <td>4.262962e+12</td>\n",
       "      <td>5642549</td>\n",
       "      <td>F</td>\n",
       "      <td>2016-04-29T16:19:04Z</td>\n",
       "      <td>2016-04-29T00:00:00Z</td>\n",
       "      <td>62</td>\n",
       "      <td>MATA DA PRAIA</td>\n",
       "      <td>0</td>\n",
       "      <td>0</td>\n",
       "      <td>0</td>\n",
       "      <td>0</td>\n",
       "      <td>0</td>\n",
       "      <td>0</td>\n",
       "      <td>No</td>\n",
       "    </tr>\n",
       "    <tr>\n",
       "      <th>3</th>\n",
       "      <td>8.679512e+11</td>\n",
       "      <td>5642828</td>\n",
       "      <td>F</td>\n",
       "      <td>2016-04-29T17:29:31Z</td>\n",
       "      <td>2016-04-29T00:00:00Z</td>\n",
       "      <td>8</td>\n",
       "      <td>PONTAL DE CAMBURI</td>\n",
       "      <td>0</td>\n",
       "      <td>0</td>\n",
       "      <td>0</td>\n",
       "      <td>0</td>\n",
       "      <td>0</td>\n",
       "      <td>0</td>\n",
       "      <td>No</td>\n",
       "    </tr>\n",
       "    <tr>\n",
       "      <th>4</th>\n",
       "      <td>8.841186e+12</td>\n",
       "      <td>5642494</td>\n",
       "      <td>F</td>\n",
       "      <td>2016-04-29T16:07:23Z</td>\n",
       "      <td>2016-04-29T00:00:00Z</td>\n",
       "      <td>56</td>\n",
       "      <td>JARDIM DA PENHA</td>\n",
       "      <td>0</td>\n",
       "      <td>1</td>\n",
       "      <td>1</td>\n",
       "      <td>0</td>\n",
       "      <td>0</td>\n",
       "      <td>0</td>\n",
       "      <td>No</td>\n",
       "    </tr>\n",
       "  </tbody>\n",
       "</table>\n",
       "</div>"
      ],
      "text/plain": [
       "      PatientId  AppointmentID Gender          ScheduledDay  \\\n",
       "0  2.987250e+13        5642903      F  2016-04-29T18:38:08Z   \n",
       "1  5.589978e+14        5642503      M  2016-04-29T16:08:27Z   \n",
       "2  4.262962e+12        5642549      F  2016-04-29T16:19:04Z   \n",
       "3  8.679512e+11        5642828      F  2016-04-29T17:29:31Z   \n",
       "4  8.841186e+12        5642494      F  2016-04-29T16:07:23Z   \n",
       "\n",
       "         AppointmentDay  Age      Neighbourhood  Scholarship  Hipertension  \\\n",
       "0  2016-04-29T00:00:00Z   62    JARDIM DA PENHA            0             1   \n",
       "1  2016-04-29T00:00:00Z   56    JARDIM DA PENHA            0             0   \n",
       "2  2016-04-29T00:00:00Z   62      MATA DA PRAIA            0             0   \n",
       "3  2016-04-29T00:00:00Z    8  PONTAL DE CAMBURI            0             0   \n",
       "4  2016-04-29T00:00:00Z   56    JARDIM DA PENHA            0             1   \n",
       "\n",
       "   Diabetes  Alcoholism  Handcap  SMS_received No-show  \n",
       "0         0           0        0             0      No  \n",
       "1         0           0        0             0      No  \n",
       "2         0           0        0             0      No  \n",
       "3         0           0        0             0      No  \n",
       "4         1           0        0             0      No  "
      ]
     },
     "execution_count": 3,
     "metadata": {},
     "output_type": "execute_result"
    }
   ],
   "source": [
    "# Printing Dataset Head\n",
    "df.head()"
   ]
  },
  {
   "cell_type": "code",
   "execution_count": 4,
   "metadata": {},
   "outputs": [
    {
     "name": "stdout",
     "output_type": "stream",
     "text": [
      "Dataset Shape : (110527, 14)\n"
     ]
    }
   ],
   "source": [
    "# Printing Dataset Shape\n",
    "print('Dataset Shape :', df.shape)"
   ]
  },
  {
   "cell_type": "markdown",
   "metadata": {},
   "source": [
    "Number of Rows : 110527<br>\n",
    "Number of Columns : 14"
   ]
  },
  {
   "cell_type": "markdown",
   "metadata": {},
   "source": [
    "### Checking Dataset for Duplicated Rows"
   ]
  },
  {
   "cell_type": "markdown",
   "metadata": {},
   "source": [
    "Every row in the dataset represents, an appointment. Since it is possible a single patient can have multiple appointments, **PatientId** cannot be used to identify duplicated appointment entries. Hence, **AppointmentID** will be used to identify duplicated appointments in the dataset, since it is an unique identifier for every appointment."
   ]
  },
  {
   "cell_type": "code",
   "execution_count": 5,
   "metadata": {},
   "outputs": [
    {
     "name": "stdout",
     "output_type": "stream",
     "text": [
      "Number of Duplicated Rows : 0\n"
     ]
    }
   ],
   "source": [
    "# Counting Number of Duplicate Rows\n",
    "dupli_count = df.duplicated(subset=['AppointmentID']).sum()\n",
    "print('Number of Duplicated Rows :', dupli_count)"
   ]
  },
  {
   "cell_type": "markdown",
   "metadata": {},
   "source": [
    "Since, there no duplicated appointment entries in the dataset, no rows will be dropped."
   ]
  },
  {
   "cell_type": "markdown",
   "metadata": {},
   "source": [
    "### Checking Dataset for Missing Values"
   ]
  },
  {
   "cell_type": "code",
   "execution_count": 6,
   "metadata": {},
   "outputs": [
    {
     "name": "stdout",
     "output_type": "stream",
     "text": [
      "PatientId         0\n",
      "AppointmentID     0\n",
      "Gender            0\n",
      "ScheduledDay      0\n",
      "AppointmentDay    0\n",
      "Age               0\n",
      "Neighbourhood     0\n",
      "Scholarship       0\n",
      "Hipertension      0\n",
      "Diabetes          0\n",
      "Alcoholism        0\n",
      "Handcap           0\n",
      "SMS_received      0\n",
      "No-show           0\n",
      "dtype: int64\n"
     ]
    }
   ],
   "source": [
    "# Counting Number of Missing Values in Each Column\n",
    "missing_count = df.isnull().sum()\n",
    "print(missing_count)"
   ]
  },
  {
   "cell_type": "markdown",
   "metadata": {},
   "source": [
    "It can be observed that none of the features contain any missing values. This means no rows will have to dropped from the dataset."
   ]
  },
  {
   "cell_type": "markdown",
   "metadata": {},
   "source": [
    "### Dropping Non-Required Columns"
   ]
  },
  {
   "cell_type": "markdown",
   "metadata": {
    "collapsed": true
   },
   "source": [
    "Two columns of the dataset, **PatientId** and **AppointmentID** are columns which store unique identifiers for the Patient and Appointment respectively. These columns are not deemed to be useful for analysis of No-Shows, and hence are being dropped from the dataset."
   ]
  },
  {
   "cell_type": "code",
   "execution_count": 7,
   "metadata": {},
   "outputs": [],
   "source": [
    "# Dropping Columns\n",
    "df.drop(['PatientId', 'AppointmentID'], axis=1, inplace=True)"
   ]
  },
  {
   "cell_type": "markdown",
   "metadata": {},
   "source": [
    "It can be observed that the column **ScheduledDay** is used to feature when an appointment was registered. However it is deemed that instead of the appointment registration time, **AppointmentDay** which indicates the day of the appointment is more important for the analysis. Hence, the column **ScheduledDay** is being dropped."
   ]
  },
  {
   "cell_type": "code",
   "execution_count": 8,
   "metadata": {},
   "outputs": [],
   "source": [
    "# Dropping Appointment Day Column\n",
    "df.drop(['ScheduledDay'], axis=1, inplace=True)"
   ]
  },
  {
   "cell_type": "code",
   "execution_count": 9,
   "metadata": {},
   "outputs": [
    {
     "name": "stdout",
     "output_type": "stream",
     "text": [
      "Dataset Shape : (110527, 11)\n"
     ]
    }
   ],
   "source": [
    "# Verifying the Column Drop Operation\n",
    "print('Dataset Shape :', df.shape)"
   ]
  },
  {
   "cell_type": "markdown",
   "metadata": {},
   "source": [
    "Since, the number of columns have been reduced by 3, it can seen that the columns were dropped successfully."
   ]
  },
  {
   "cell_type": "markdown",
   "metadata": {},
   "source": [
    "### Correcting Data in Handcap Column"
   ]
  },
  {
   "cell_type": "code",
   "execution_count": 10,
   "metadata": {},
   "outputs": [
    {
     "data": {
      "text/plain": [
       "0    108286\n",
       "1      2042\n",
       "2       183\n",
       "3        13\n",
       "4         3\n",
       "Name: Handcap, dtype: int64"
      ]
     },
     "execution_count": 10,
     "metadata": {},
     "output_type": "execute_result"
    }
   ],
   "source": [
    "df['Handcap'].value_counts()"
   ]
  },
  {
   "cell_type": "markdown",
   "metadata": {},
   "source": [
    "The **HandCap Column** in the dataset, is used to indicate whether the particular patient is *Handicapped or Not*. However, as observed above, the column contains not only 0 and 1, but other integers as values as well.<br>\n",
    "Thus, for the values in this column, all entries for 0 will be kept as it is, and all entries for >=1 will be converted to 1, to indicate that the patient is hypertensive."
   ]
  },
  {
   "cell_type": "code",
   "execution_count": 11,
   "metadata": {},
   "outputs": [],
   "source": [
    "# Changing all values >=1 to 1\n",
    "df.loc[df['Handcap'] >= 1, 'Handcap'] = 1"
   ]
  },
  {
   "cell_type": "code",
   "execution_count": 12,
   "metadata": {},
   "outputs": [
    {
     "data": {
      "text/plain": [
       "0    108286\n",
       "1      2241\n",
       "Name: Handcap, dtype: int64"
      ]
     },
     "execution_count": 12,
     "metadata": {},
     "output_type": "execute_result"
    }
   ],
   "source": [
    "# Confirming Changes\n",
    "df['Handcap'].value_counts()"
   ]
  },
  {
   "cell_type": "markdown",
   "metadata": {},
   "source": [
    "### Checking Datatypes for All Features"
   ]
  },
  {
   "cell_type": "code",
   "execution_count": 13,
   "metadata": {},
   "outputs": [
    {
     "name": "stdout",
     "output_type": "stream",
     "text": [
      "<class 'pandas.core.frame.DataFrame'>\n",
      "RangeIndex: 110527 entries, 0 to 110526\n",
      "Data columns (total 11 columns):\n",
      "Gender            110527 non-null object\n",
      "AppointmentDay    110527 non-null object\n",
      "Age               110527 non-null int64\n",
      "Neighbourhood     110527 non-null object\n",
      "Scholarship       110527 non-null int64\n",
      "Hipertension      110527 non-null int64\n",
      "Diabetes          110527 non-null int64\n",
      "Alcoholism        110527 non-null int64\n",
      "Handcap           110527 non-null int64\n",
      "SMS_received      110527 non-null int64\n",
      "No-show           110527 non-null object\n",
      "dtypes: int64(7), object(4)\n",
      "memory usage: 9.3+ MB\n"
     ]
    }
   ],
   "source": [
    "df.info()"
   ]
  },
  {
   "cell_type": "markdown",
   "metadata": {},
   "source": [
    "It can be observed that the column **AppointmentDay** is a feature that stores the date for the appointment, but it stored as an object, which is an incorrect datatype. "
   ]
  },
  {
   "cell_type": "code",
   "execution_count": 14,
   "metadata": {},
   "outputs": [],
   "source": [
    "# Converting AppointmentDay to datetime format\n",
    "df['AppointmentDay'] = pd.to_datetime(df['AppointmentDay'])"
   ]
  },
  {
   "cell_type": "code",
   "execution_count": 15,
   "metadata": {},
   "outputs": [
    {
     "name": "stdout",
     "output_type": "stream",
     "text": [
      "<class 'pandas.core.frame.DataFrame'>\n",
      "RangeIndex: 110527 entries, 0 to 110526\n",
      "Data columns (total 11 columns):\n",
      "Gender            110527 non-null object\n",
      "AppointmentDay    110527 non-null datetime64[ns, UTC]\n",
      "Age               110527 non-null int64\n",
      "Neighbourhood     110527 non-null object\n",
      "Scholarship       110527 non-null int64\n",
      "Hipertension      110527 non-null int64\n",
      "Diabetes          110527 non-null int64\n",
      "Alcoholism        110527 non-null int64\n",
      "Handcap           110527 non-null int64\n",
      "SMS_received      110527 non-null int64\n",
      "No-show           110527 non-null object\n",
      "dtypes: datetime64[ns, UTC](1), int64(7), object(3)\n",
      "memory usage: 9.3+ MB\n"
     ]
    }
   ],
   "source": [
    "# Confirming Operation\n",
    "df.info()"
   ]
  },
  {
   "cell_type": "markdown",
   "metadata": {},
   "source": [
    "### Adding New Column : Appointment Day of Week"
   ]
  },
  {
   "cell_type": "markdown",
   "metadata": {},
   "source": [
    "The new column **Appointment_WeekDay** will store the name of the day of week, for which the appointment was scheduled."
   ]
  },
  {
   "cell_type": "code",
   "execution_count": 16,
   "metadata": {},
   "outputs": [],
   "source": [
    "# Adding New Column\n",
    "df['Appointment_WeekDay'] = df['AppointmentDay'].dt.weekday_name"
   ]
  },
  {
   "cell_type": "code",
   "execution_count": 17,
   "metadata": {},
   "outputs": [
    {
     "data": {
      "text/html": [
       "<div>\n",
       "<style scoped>\n",
       "    .dataframe tbody tr th:only-of-type {\n",
       "        vertical-align: middle;\n",
       "    }\n",
       "\n",
       "    .dataframe tbody tr th {\n",
       "        vertical-align: top;\n",
       "    }\n",
       "\n",
       "    .dataframe thead th {\n",
       "        text-align: right;\n",
       "    }\n",
       "</style>\n",
       "<table border=\"1\" class=\"dataframe\">\n",
       "  <thead>\n",
       "    <tr style=\"text-align: right;\">\n",
       "      <th></th>\n",
       "      <th>Gender</th>\n",
       "      <th>AppointmentDay</th>\n",
       "      <th>Age</th>\n",
       "      <th>Neighbourhood</th>\n",
       "      <th>Scholarship</th>\n",
       "      <th>Hipertension</th>\n",
       "      <th>Diabetes</th>\n",
       "      <th>Alcoholism</th>\n",
       "      <th>Handcap</th>\n",
       "      <th>SMS_received</th>\n",
       "      <th>No-show</th>\n",
       "      <th>Appointment_WeekDay</th>\n",
       "    </tr>\n",
       "  </thead>\n",
       "  <tbody>\n",
       "    <tr>\n",
       "      <th>0</th>\n",
       "      <td>F</td>\n",
       "      <td>2016-04-29 00:00:00+00:00</td>\n",
       "      <td>62</td>\n",
       "      <td>JARDIM DA PENHA</td>\n",
       "      <td>0</td>\n",
       "      <td>1</td>\n",
       "      <td>0</td>\n",
       "      <td>0</td>\n",
       "      <td>0</td>\n",
       "      <td>0</td>\n",
       "      <td>No</td>\n",
       "      <td>Friday</td>\n",
       "    </tr>\n",
       "    <tr>\n",
       "      <th>1</th>\n",
       "      <td>M</td>\n",
       "      <td>2016-04-29 00:00:00+00:00</td>\n",
       "      <td>56</td>\n",
       "      <td>JARDIM DA PENHA</td>\n",
       "      <td>0</td>\n",
       "      <td>0</td>\n",
       "      <td>0</td>\n",
       "      <td>0</td>\n",
       "      <td>0</td>\n",
       "      <td>0</td>\n",
       "      <td>No</td>\n",
       "      <td>Friday</td>\n",
       "    </tr>\n",
       "    <tr>\n",
       "      <th>2</th>\n",
       "      <td>F</td>\n",
       "      <td>2016-04-29 00:00:00+00:00</td>\n",
       "      <td>62</td>\n",
       "      <td>MATA DA PRAIA</td>\n",
       "      <td>0</td>\n",
       "      <td>0</td>\n",
       "      <td>0</td>\n",
       "      <td>0</td>\n",
       "      <td>0</td>\n",
       "      <td>0</td>\n",
       "      <td>No</td>\n",
       "      <td>Friday</td>\n",
       "    </tr>\n",
       "    <tr>\n",
       "      <th>3</th>\n",
       "      <td>F</td>\n",
       "      <td>2016-04-29 00:00:00+00:00</td>\n",
       "      <td>8</td>\n",
       "      <td>PONTAL DE CAMBURI</td>\n",
       "      <td>0</td>\n",
       "      <td>0</td>\n",
       "      <td>0</td>\n",
       "      <td>0</td>\n",
       "      <td>0</td>\n",
       "      <td>0</td>\n",
       "      <td>No</td>\n",
       "      <td>Friday</td>\n",
       "    </tr>\n",
       "    <tr>\n",
       "      <th>4</th>\n",
       "      <td>F</td>\n",
       "      <td>2016-04-29 00:00:00+00:00</td>\n",
       "      <td>56</td>\n",
       "      <td>JARDIM DA PENHA</td>\n",
       "      <td>0</td>\n",
       "      <td>1</td>\n",
       "      <td>1</td>\n",
       "      <td>0</td>\n",
       "      <td>0</td>\n",
       "      <td>0</td>\n",
       "      <td>No</td>\n",
       "      <td>Friday</td>\n",
       "    </tr>\n",
       "  </tbody>\n",
       "</table>\n",
       "</div>"
      ],
      "text/plain": [
       "  Gender            AppointmentDay  Age      Neighbourhood  Scholarship  \\\n",
       "0      F 2016-04-29 00:00:00+00:00   62    JARDIM DA PENHA            0   \n",
       "1      M 2016-04-29 00:00:00+00:00   56    JARDIM DA PENHA            0   \n",
       "2      F 2016-04-29 00:00:00+00:00   62      MATA DA PRAIA            0   \n",
       "3      F 2016-04-29 00:00:00+00:00    8  PONTAL DE CAMBURI            0   \n",
       "4      F 2016-04-29 00:00:00+00:00   56    JARDIM DA PENHA            0   \n",
       "\n",
       "   Hipertension  Diabetes  Alcoholism  Handcap  SMS_received No-show  \\\n",
       "0             1         0           0        0             0      No   \n",
       "1             0         0           0        0             0      No   \n",
       "2             0         0           0        0             0      No   \n",
       "3             0         0           0        0             0      No   \n",
       "4             1         1           0        0             0      No   \n",
       "\n",
       "  Appointment_WeekDay  \n",
       "0              Friday  \n",
       "1              Friday  \n",
       "2              Friday  \n",
       "3              Friday  \n",
       "4              Friday  "
      ]
     },
     "execution_count": 17,
     "metadata": {},
     "output_type": "execute_result"
    }
   ],
   "source": [
    "# Checking Dataframe Head\n",
    "df.head()"
   ]
  },
  {
   "cell_type": "markdown",
   "metadata": {},
   "source": [
    "<a id='eda'></a>\n",
    "## Exploratory Data Analysis"
   ]
  },
  {
   "cell_type": "code",
   "execution_count": 18,
   "metadata": {},
   "outputs": [],
   "source": [
    "# Defining Function to Obtain Proportions of Feature With Relation to No-Shows\n",
    "def get_counts(feature_name):\n",
    "    # Storing Counts for No-Shows By Grouping on Feature_Name and No-Show\n",
    "    counts = df.groupby([feature_name, 'No-show']).count().iloc[:,0]\n",
    "    # Total Counts for No-show in Dataset\n",
    "    total = df.groupby([feature_name]).count().iloc[:,0]\n",
    "    # Generating Counts/Total\n",
    "    counts = counts/total\n",
    "    # Returning counts\n",
    "    return counts"
   ]
  },
  {
   "cell_type": "markdown",
   "metadata": {},
   "source": [
    "### Are Patients who receive an SMS less likely to be a No-Show ?"
   ]
  },
  {
   "cell_type": "code",
   "execution_count": 19,
   "metadata": {},
   "outputs": [],
   "source": [
    "# Storing Counts for No-Shows By Grouping on SMS-Received and No-Show\n",
    "counts = get_counts('SMS_received')"
   ]
  },
  {
   "cell_type": "code",
   "execution_count": 20,
   "metadata": {},
   "outputs": [
    {
     "data": {
      "image/png": "[encoded data removed]",
      "text/plain": [
       "<Figure size 576x432 with 1 Axes>"
      ]
     },
     "metadata": {
      "needs_background": "light"
     },
     "output_type": "display_data"
    }
   ],
   "source": [
    "color_list = ['red', 'red', 'green', 'green']\n",
    "counts.plot(kind='bar', color=color_list, figsize=(8,6))\n",
    "plt.title('Proportion by SMS Received and No Show', fontsize=14)\n",
    "plt.xlabel('SMS Received and No-Show', fontsize=12)\n",
    "plt.ylabel('Proportion', fontsize=12)\n",
    "plt.show()"
   ]
  },
  {
   "cell_type": "markdown",
   "metadata": {},
   "source": [
    "From the above visualisation it can be seen that, the patients who **Recieved SMS** have a higher proportion of *No-Shows* in comparison to patients who did not recieve the SMS.<br>\n",
    "Thus, it can be said that, **Recieving an SMS** has an impact on No-Show, and patients who received SMS are more likely to be a No Show at the appointment."
   ]
  },
  {
   "cell_type": "markdown",
   "metadata": {},
   "source": [
    "### Is the likelihood of No-Show affected by the Patient's Age ?"
   ]
  },
  {
   "cell_type": "code",
   "execution_count": 21,
   "metadata": {},
   "outputs": [
    {
     "data": {
      "image/png": "[encoded data removed]",
      "text/plain": [
       "<Figure size 432x288 with 1 Axes>"
      ]
     },
     "metadata": {
      "needs_background": "light"
     },
     "output_type": "display_data"
    }
   ],
   "source": [
    "sns.violinplot(x='Age', y='No-show', data=df)\n",
    "plt.title('Distribution of Age By No-Show', fontsize=14)\n",
    "plt.xlabel('Age of Patients (In Years)', fontsize=12)\n",
    "plt.ylabel('No-Show', fontsize=12)\n",
    "plt.show()"
   ]
  },
  {
   "cell_type": "markdown",
   "metadata": {},
   "source": [
    "From the above *Violin Plot* it can be observed that **No Relation** is seen between the *Age of Patients* and *Appointment No-Show*.<br>\n",
    "Thus, it can be said that the Age of the patient has no effect on the Appointment No-Show."
   ]
  },
  {
   "cell_type": "markdown",
   "metadata": {},
   "source": [
    "### Does the Gender of the Patients affect the likelihood of No-Shows ?"
   ]
  },
  {
   "cell_type": "code",
   "execution_count": 22,
   "metadata": {},
   "outputs": [
    {
     "data": {
      "image/png": "[encoded data removed]",
      "text/plain": [
       "<Figure size 432x288 with 1 Axes>"
      ]
     },
     "metadata": {},
     "output_type": "display_data"
    }
   ],
   "source": [
    "# Calculating Counts of Gender Column in Dataset\n",
    "gender_counts = df['Gender'].value_counts()\n",
    "plt.Figure(figsize=(10, 10))\n",
    "plt.pie(gender_counts.values, labels=['Female', 'Male'], autopct='%1.1f%%')\n",
    "plt.title('Distribution of Appointments Based on Gender in Dataset')\n",
    "plt.show()"
   ]
  },
  {
   "cell_type": "markdown",
   "metadata": {},
   "source": [
    "From the above *Pie Chart*, it can be seen that the Clinic has **Higher Female Patient Appointments over Male Patients**."
   ]
  },
  {
   "cell_type": "code",
   "execution_count": 23,
   "metadata": {},
   "outputs": [],
   "source": [
    "# Storing Counts for No-Shows By Grouping on Gender and No-Show\n",
    "counts = get_counts('Gender')"
   ]
  },
  {
   "cell_type": "code",
   "execution_count": 24,
   "metadata": {},
   "outputs": [
    {
     "data": {
      "image/png": "[encoded data removed]",
      "text/plain": [
       "<Figure size 576x432 with 1 Axes>"
      ]
     },
     "metadata": {
      "needs_background": "light"
     },
     "output_type": "display_data"
    }
   ],
   "source": [
    "color_list = ['pink', 'pink', 'lightblue', 'lightblue']\n",
    "counts.plot(kind='bar', color=color_list, figsize=(8,6))\n",
    "plt.title('Proportion by Gender and No Show', fontsize=14)\n",
    "plt.xlabel('Gender and No-Show', fontsize=12)\n",
    "plt.ylabel('Proportion', fontsize=12)\n",
    "plt.show()"
   ]
  },
  {
   "cell_type": "markdown",
   "metadata": {},
   "source": [
    "From the above plot, it can be seen that for both the genders, *Proportion of No-Shows* is similar, and thus, it can be said that the **Patient's Gender** does not affect the likelihood of No-show at Medical Appointments."
   ]
  },
  {
   "cell_type": "markdown",
   "metadata": {},
   "source": [
    "### Is the likelihood of No-Show of an Alocholic Patient higher than a Non-Alcoholic Patient ?"
   ]
  },
  {
   "cell_type": "code",
   "execution_count": 25,
   "metadata": {},
   "outputs": [
    {
     "data": {
      "image/png": "[encoded data removed]",
      "text/plain": [
       "<Figure size 432x288 with 1 Axes>"
      ]
     },
     "metadata": {},
     "output_type": "display_data"
    }
   ],
   "source": [
    "# Calculating Counts of Alcoholism Column in Dataset\n",
    "al_counts = df['Alcoholism'].value_counts()\n",
    "plt.Figure(figsize=(10, 10))\n",
    "plt.pie(al_counts.values, labels=['Not Alcoholic', 'Alcoholic'], autopct='%1.1f%%')\n",
    "plt.title('Distribution of Appointments based on Alcoholism in Dataset')\n",
    "plt.show()"
   ]
  },
  {
   "cell_type": "markdown",
   "metadata": {},
   "source": [
    "Very few of the Clinic's Appointments are for **Alcoholic Patients** constituing only *3%* of the total appointments."
   ]
  },
  {
   "cell_type": "code",
   "execution_count": 26,
   "metadata": {},
   "outputs": [],
   "source": [
    "# Storing Counts for No-Shows By Grouping on Alcoholism and No-Show\n",
    "counts = get_counts('Alcoholism')"
   ]
  },
  {
   "cell_type": "code",
   "execution_count": 27,
   "metadata": {},
   "outputs": [
    {
     "data": {
      "image/png": "[encoded data removed]",
      "text/plain": [
       "<Figure size 576x432 with 1 Axes>"
      ]
     },
     "metadata": {
      "needs_background": "light"
     },
     "output_type": "display_data"
    }
   ],
   "source": [
    "color_list = ['lightgreen', 'lightgreen', 'orange', 'orange']\n",
    "counts.plot(kind='bar', color=color_list, figsize=(8,6))\n",
    "plt.title('Proportion by Alcoholism and No Show', fontsize=14)\n",
    "plt.xlabel('Alcoholism and No-Show', fontsize=12)\n",
    "plt.ylabel('Proportion', fontsize=12)\n",
    "plt.show()"
   ]
  },
  {
   "cell_type": "markdown",
   "metadata": {},
   "source": [
    "From the above plot, it can be seen that **No Relation** can be seen between Alcoholism and No-Shows. It can be observed that Alocholic patients do not have higher proportion of No-Shows, and neither to Non-Alcoholic Patients have lower proportions of No-Shows.<br>\n",
    "Thus, **Alcoholic Patients** and **Non-Alcoholic Patients** are equally likely to be a No-Show."
   ]
  },
  {
   "cell_type": "markdown",
   "metadata": {},
   "source": [
    "### Are the Diabetic Patients less likely to be a No-Show ?"
   ]
  },
  {
   "cell_type": "code",
   "execution_count": 28,
   "metadata": {},
   "outputs": [
    {
     "data": {
      "image/png": "[encoded data removed]",
      "text/plain": [
       "<Figure size 432x288 with 1 Axes>"
      ]
     },
     "metadata": {},
     "output_type": "display_data"
    }
   ],
   "source": [
    "# Calculating Counts of Diabetic Patients Column in Dataset\n",
    "db_counts = df['Diabetes'].value_counts()\n",
    "plt.Figure(figsize=(10, 10))\n",
    "plt.pie(db_counts.values, labels=['Not Diabetic', 'Diabetic'],autopct='%1.1f%%')\n",
    "plt.title('Distribution of Appointments Based on Diabetes in Dataset')\n",
    "plt.show()"
   ]
  },
  {
   "cell_type": "markdown",
   "metadata": {},
   "source": [
    "It can be observed that majority of the Clinic's appointments are for **Not Diabetic Patients**."
   ]
  },
  {
   "cell_type": "code",
   "execution_count": 29,
   "metadata": {},
   "outputs": [],
   "source": [
    "# Storing Counts for No-Shows By Grouping on Diabetes and No-Show\n",
    "counts = get_counts('Diabetes')"
   ]
  },
  {
   "cell_type": "code",
   "execution_count": 30,
   "metadata": {},
   "outputs": [
    {
     "data": {
      "image/png": "[encoded data removed]",
      "text/plain": [
       "<Figure size 576x432 with 1 Axes>"
      ]
     },
     "metadata": {
      "needs_background": "light"
     },
     "output_type": "display_data"
    }
   ],
   "source": [
    "color_list = ['lightgreen', 'lightgreen', 'orange', 'orange']\n",
    "counts.plot(kind='bar', color=color_list, figsize=(8,6))\n",
    "plt.title('Proportion by Diabetes and No Show', fontsize=14)\n",
    "plt.xlabel('Diabetes and No-Show', fontsize=12)\n",
    "plt.ylabel('Proportion', fontsize=12)\n",
    "plt.show()"
   ]
  },
  {
   "cell_type": "markdown",
   "metadata": {},
   "source": [
    "From the above plot, it can be observed that **Diabetic Patients** have a lower proportion of *No-Shows* when compared to **Non-Diabetic Patients**.<br>Thus, it can be said diabetes has an effect on likelihood of No-Shows, and **Diabetic Patients** are less likely to be a No-Show when compared to **Non Diabetic Patients**."
   ]
  },
  {
   "cell_type": "markdown",
   "metadata": {},
   "source": [
    "### Are the Hypertensive Patients less likely to be a No-Show ?"
   ]
  },
  {
   "cell_type": "code",
   "execution_count": 31,
   "metadata": {},
   "outputs": [
    {
     "data": {
      "image/png": "[encoded data removed]",
      "text/plain": [
       "<Figure size 432x288 with 1 Axes>"
      ]
     },
     "metadata": {},
     "output_type": "display_data"
    }
   ],
   "source": [
    "# Calculating Counts of Hypertensive Patients Column in Dataset\n",
    "ht_counts = df['Hipertension'].value_counts()\n",
    "plt.Figure(figsize=(10, 10))\n",
    "plt.pie(ht_counts.values, labels=['Not Hypertensive', 'Hypertensive'],autopct='%1.1f%%')\n",
    "plt.title('Distribution of Appointments Based on Hypertension in Dataset')\n",
    "plt.show()"
   ]
  },
  {
   "cell_type": "markdown",
   "metadata": {},
   "source": [
    "It can be observed from the above *Pie Chart* that almost **1/5th of the Clinic's Appointments were for  Hypertensive Patients**."
   ]
  },
  {
   "cell_type": "code",
   "execution_count": 32,
   "metadata": {},
   "outputs": [],
   "source": [
    "# Storing Counts for No-Shows By Grouping on Hypertensive and No-Show\n",
    "counts = get_counts('Hipertension')"
   ]
  },
  {
   "cell_type": "code",
   "execution_count": 33,
   "metadata": {},
   "outputs": [
    {
     "data": {
      "image/png": "[encoded data removed]",
      "text/plain": [
       "<Figure size 576x432 with 1 Axes>"
      ]
     },
     "metadata": {
      "needs_background": "light"
     },
     "output_type": "display_data"
    }
   ],
   "source": [
    "color_list = ['lightgreen', 'lightgreen', 'red', 'red']\n",
    "counts.plot(kind='bar', color=color_list, figsize=(8,6))\n",
    "plt.title('Proportion by Hypertension and No Show', fontsize=14)\n",
    "plt.xlabel('Hypertension and No-Show', fontsize=12)\n",
    "plt.ylabel('Proportion', fontsize=12)\n",
    "plt.show()"
   ]
  },
  {
   "cell_type": "markdown",
   "metadata": {},
   "source": [
    "It can be observed that, **Hypertensive Patients** have *Lower Proportions* of No-Shows when compared to **Non-Hypertensive Patients**.<br>Thus, it can be observed Hypertension has an effect on likelihood of No-Shows, and **Hypertensive Patients** are less likely to be a No-Show in comparison to **Non Hypertensive Patients**."
   ]
  },
  {
   "cell_type": "markdown",
   "metadata": {},
   "source": [
    "### Is the likelihood of No-Show affected if the Patient is Handicapped ?"
   ]
  },
  {
   "cell_type": "code",
   "execution_count": 34,
   "metadata": {},
   "outputs": [
    {
     "data": {
      "image/png": "[encoded data removed]",
      "text/plain": [
       "<Figure size 432x288 with 1 Axes>"
      ]
     },
     "metadata": {},
     "output_type": "display_data"
    }
   ],
   "source": [
    "# Calculating Counts of Hypertensive Patients Column in Dataset\n",
    "hd_counts = df['Handcap'].value_counts()\n",
    "plt.Figure(figsize=(10, 10))\n",
    "plt.pie(hd_counts.values, labels=['Not Handicapped', 'Handicapped'],autopct='%1.1f%%')\n",
    "plt.title('Distribution of Appointments Based on Handicap in Dataset')\n",
    "plt.show()"
   ]
  },
  {
   "cell_type": "markdown",
   "metadata": {},
   "source": [
    "It can observed from the above *Pie Chart* that, very few appointments in the clinic were for **Handicapped Patients**."
   ]
  },
  {
   "cell_type": "code",
   "execution_count": 35,
   "metadata": {},
   "outputs": [],
   "source": [
    "# Storing Counts for No-Shows By Grouping on Handicap and No-Show\n",
    "counts = get_counts('Handcap')"
   ]
  },
  {
   "cell_type": "code",
   "execution_count": 36,
   "metadata": {},
   "outputs": [
    {
     "data": {
      "image/png": "[encoded data removed]",
      "text/plain": [
       "<Figure size 576x432 with 1 Axes>"
      ]
     },
     "metadata": {
      "needs_background": "light"
     },
     "output_type": "display_data"
    }
   ],
   "source": [
    "color_list = ['lightgreen', 'lightgreen', 'orange', 'orange']\n",
    "counts.plot(kind='bar', color=color_list, figsize=(8,6))\n",
    "plt.title('Proportion by Handicapped and No Show', fontsize=14)\n",
    "plt.xlabel('Handicapped and No-Show', fontsize=12)\n",
    "plt.ylabel('Proportion', fontsize=12)\n",
    "plt.show()"
   ]
  },
  {
   "cell_type": "markdown",
   "metadata": {},
   "source": [
    "It can be clearly observed that **Handicapped Patients** have a lower proportion of No-Shows when compared to **Non Handicapped Patients**.<br>Thus it can be said that Handicap has an effect on No-Shows, and **Handicapped Patients** are less likely to be a No-Show."
   ]
  },
  {
   "cell_type": "markdown",
   "metadata": {},
   "source": [
    "### Do the patients who receive Scholarship less likely to be a No-Show ?"
   ]
  },
  {
   "cell_type": "code",
   "execution_count": 37,
   "metadata": {},
   "outputs": [
    {
     "data": {
      "image/png": "[encoded data removed]",
      "text/plain": [
       "<Figure size 432x288 with 1 Axes>"
      ]
     },
     "metadata": {},
     "output_type": "display_data"
    }
   ],
   "source": [
    "# Calculating Counts of Scholarship Receiving Patients Column in Dataset\n",
    "sch_counts = df['Scholarship'].value_counts()\n",
    "plt.Figure(figsize=(10, 10))\n",
    "plt.pie(sch_counts.values, labels=['No Scholarship', 'Receive Scholarship'], autopct='%1.1f%%')\n",
    "plt.title('Distribution of Scholarship Receiving Patients in Dataset')\n",
    "plt.show()"
   ]
  },
  {
   "cell_type": "markdown",
   "metadata": {},
   "source": [
    "From the above *Pie Chart* it can be observed that majority of the Clinic's appointments were for patients who **Do Not Receive Scholarships**. "
   ]
  },
  {
   "cell_type": "code",
   "execution_count": 38,
   "metadata": {},
   "outputs": [],
   "source": [
    "# Storing Counts for No-Shows By Grouping on Scholarship and No-Show\n",
    "counts = get_counts('Scholarship')"
   ]
  },
  {
   "cell_type": "code",
   "execution_count": 39,
   "metadata": {},
   "outputs": [
    {
     "data": {
      "image/png": "[encoded data removed]",
      "text/plain": [
       "<Figure size 576x432 with 1 Axes>"
      ]
     },
     "metadata": {
      "needs_background": "light"
     },
     "output_type": "display_data"
    }
   ],
   "source": [
    "color_list = ['red', 'red', 'lightblue', 'lightblue']\n",
    "counts.plot(kind='bar', color=color_list, figsize=(8,6))\n",
    "plt.title('Proportion by Scholarship and No Show', fontsize=14)\n",
    "plt.xlabel('Scholarship and No-Show', fontsize=12)\n",
    "plt.ylabel('Proportion', fontsize=12)\n",
    "plt.show()"
   ]
  },
  {
   "cell_type": "markdown",
   "metadata": {},
   "source": [
    "It can be seen that, the patients who **Receive Scholarship** have a *Slightly Higher* No-Show Proportion in comparsion to patients who **Do Not Receive Scholarship**.<br>\n",
    "Thus it can be said, that the receipt of scholarship may have a slight effect on No-Shows, and **Patients who Receive Scholarship** are more likely to be a No-Show."
   ]
  },
  {
   "cell_type": "markdown",
   "metadata": {},
   "source": [
    "### Does the day of the appointment affect the likelihood of No-Shows ?"
   ]
  },
  {
   "cell_type": "code",
   "execution_count": 40,
   "metadata": {},
   "outputs": [
    {
     "name": "stdout",
     "output_type": "stream",
     "text": [
      "Wednesday    25867\n",
      "Tuesday      25640\n",
      "Monday       22715\n",
      "Friday       19019\n",
      "Thursday     17247\n",
      "Saturday        39\n",
      "Name: Appointment_WeekDay, dtype: int64\n"
     ]
    }
   ],
   "source": [
    "# Displaying Total Number of Appointments for Each Weekday\n",
    "print(df['Appointment_WeekDay'].value_counts())"
   ]
  },
  {
   "cell_type": "markdown",
   "metadata": {},
   "source": [
    "From the above table, it can be seen that the Clinic is the **Busiest** on *Wednesday & Tuesday*, whereas on *Saturday*, the clinic has **Very Few Appointments**."
   ]
  },
  {
   "cell_type": "code",
   "execution_count": 41,
   "metadata": {},
   "outputs": [],
   "source": [
    "# Storing Counts for No-Shows By Grouping on Appointment Day of Week and No-Show\n",
    "counts = get_counts('Appointment_WeekDay')"
   ]
  },
  {
   "cell_type": "code",
   "execution_count": 42,
   "metadata": {},
   "outputs": [],
   "source": [
    "# Reordering the Counts Proportions, according to Days Of Week\n",
    "counts = counts.reindex(['Monday', 'Tuesday', 'Wednesday', 'Thursday', 'Friday', 'Saturday'],\n",
    "                        level='Appointment_WeekDay')"
   ]
  },
  {
   "cell_type": "code",
   "execution_count": 43,
   "metadata": {},
   "outputs": [
    {
     "data": {
      "image/png": "[encoded data removed]",
      "text/plain": [
       "<Figure size 864x432 with 1 Axes>"
      ]
     },
     "metadata": {
      "needs_background": "light"
     },
     "output_type": "display_data"
    }
   ],
   "source": [
    "color_list = ['lightblue', 'lightblue', 'lightgreen', 'lightgreen', 'orange', 'orange',\n",
    "             'pink', 'pink', 'yellow', 'yellow', 'red', 'red']\n",
    "counts.plot(kind='bar', figsize=(12,6), color=color_list)\n",
    "plt.title('Proportion by Day of Week and No Show', fontsize=14)\n",
    "plt.xlabel('Day of Week and No-Show', fontsize=12)\n",
    "plt.ylabel('Proportion', fontsize=12)\n",
    "plt.show()"
   ]
  },
  {
   "cell_type": "markdown",
   "metadata": {},
   "source": [
    "From the above plot, it can be observed that for all the days, **Similar Proportion** of *No-Shows* can be observed. Hence, it can be said that the Day of the Appointment does not affect the likelihood of No-Show."
   ]
  },
  {
   "cell_type": "markdown",
   "metadata": {},
   "source": [
    "<a id='conclusions'></a>\n",
    "## Conclusions\n",
    "### Results\n",
    "1. Almost 2/3 of the Clinic's Appointments were scheduled for Female Patients.\n",
    "2. **Alcoholic Patients** have scheduled most number of appointments, whereas **Handicapped Patients** have scheduled the least number of appointments.\n",
    "3. 90% of the appointments were scheduled by patients who **Do Not Receive Scholarships**.\n",
    "4. The Clinic has most number of appointments on **Tuesday & Wednesday** and the least number of appointments on **Saturday**.\n",
    "5. Patients who **Receive Scholarship** are more likely to be No-Show when compared to patients who **Do Not Receive Scholarship**.\n",
    "6. **Non Handicapped Patients** are more likely to be No-Shows when compared to **Handicapped Patients**.\n",
    "7. Patients with **Hypertension and Diabetes** are less likely to be No-Shows when compared to **Non-Hypertension and Non-Diabetic Patients**.\n",
    "8. Patients with **Alocholism** and **Non-Alcoholism** are equally likely to be a No-Show.\n",
    "9. The **Gender** of the patients does not have any effect on the likelihood of a No-Show.\n",
    "10. **Patients Age** has no effect on the likelihood of a No-Show.\n",
    "11. Patients who have **Received a SMS** are more likely to be a No-Show when compared to patients who **Have Not Received a SMS**.<br>\n",
    "\n",
    "### Limitations\n",
    "1. The Statistics used in the project for analysis are **Descriptive Statistics** and **Not Inferential Statistics**, thus no experiments were performed, no hypothesis and inferences from data were created.\n",
    "2. Most of the data in the dataset is **Categorical**, which does not allow Correlation analysis to be performed.\n",
    "3. The conclusion drawn for **SMS Received**, is based only on the visualisation of the data, and it is not drawn from any other details. The conclusion seems to be counter-intutive, as Patients who receive SMS are more likely of a No-Show. This maybe due to the SMS being sent very early or very close to the appointment. "
   ]
  }
 ],
 "metadata": {
  "kernelspec": {
   "display_name": "Python 3",
   "language": "python",
   "name": "python3"
  },
  "language_info": {
   "codemirror_mode": {
    "name": "ipython",
    "version": 3
   },
   "file_extension": ".py",
   "mimetype": "text/x-python",
   "name": "python",
   "nbconvert_exporter": "python",
   "pygments_lexer": "ipython3",
   "version": "3.7.7"
  }
 },
 "nbformat": 4,
 "nbformat_minor": 2
}
